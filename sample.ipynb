{
 "cells": [
  {
   "cell_type": "code",
   "execution_count": 23,
   "metadata": {},
   "outputs": [
    {
     "name": "stdout",
     "output_type": "stream",
     "text": [
      "Connected to MySQL Server version  8.3.0\n",
      "You're connected to database:  ('users_database',)\n",
      "You're connected to database:  [('Roles',), ('Users',), ('users_roles',)]\n",
      "MySQL connection is closed\n"
     ]
    }
   ],
   "source": [
    "import mysql.connector\n",
    "from mysql.connector import Error\n",
    "\n",
    "hostname = \"localhost\"\n",
    "database = \"USERS_DATABASE\"\n",
    "port = \"3306\"\n",
    "username = \"root\"\n",
    "password = \"Lekha@123456\"\n",
    "\n",
    "try:\n",
    "    connection = mysql.connector.connect(host=hostname, database=database, user=username, password=password, port=port)\n",
    "    if connection.is_connected():\n",
    "        db_Info = connection.get_server_info()\n",
    "        print(\"Connected to MySQL Server version \", db_Info)\n",
    "        cursor = connection.cursor()\n",
    "        cursor.execute(\"select database();\")\n",
    "        record = cursor.fetchone()\n",
    "        print(\"You're connected to database: \", record)\n",
    "        cursor.execute(\"SHOW TABLES;\")\n",
    "        record_table = cursor.fetchall()\n",
    "        print(\"You're connected to database: \", record_table)\n",
    "\n",
    "except Exception as e:\n",
    "    print(\"Error while connecting to MySQL\", e)\n",
    "finally:\n",
    "    if connection.is_connected():\n",
    "        cursor.close()\n",
    "        connection.close()\n",
    "        print(\"MySQL connection is closed\")"
   ]
  },
  {
   "cell_type": "code",
   "execution_count": 17,
   "metadata": {},
   "outputs": [
    {
     "name": "stdout",
     "output_type": "stream",
     "text": [
      "1. lalk\n",
      "2. dheuj\n",
      "3. eugdikc\n"
     ]
    }
   ],
   "source": [
    "arr = [\"lalk\", \"dheuj\", \"eugdikc\"]\n",
    "length = len(arr)\n",
    "\n",
    "\n",
    "for i in range(0,length):\n",
    "    output = f'{i+1}. {arr[i]}'\n",
    "    print(output)"
   ]
  },
  {
   "cell_type": "code",
   "execution_count": 21,
   "metadata": {},
   "outputs": [
    {
     "name": "stdout",
     "output_type": "stream",
     "text": [
      "1. lalk\n",
      "2. dheuj\n",
      "3. eugdikc\n"
     ]
    }
   ],
   "source": [
    "for i, value in enumerate(arr):\n",
    "    print(f'{i+1}. {value}')"
   ]
  }
 ],
 "metadata": {
  "kernelspec": {
   "display_name": "Python 3",
   "language": "python",
   "name": "python3"
  },
  "language_info": {
   "codemirror_mode": {
    "name": "ipython",
    "version": 3
   },
   "file_extension": ".py",
   "mimetype": "text/x-python",
   "name": "python",
   "nbconvert_exporter": "python",
   "pygments_lexer": "ipython3",
   "version": "3.9.6"
  },
  "orig_nbformat": 4
 },
 "nbformat": 4,
 "nbformat_minor": 2
}
